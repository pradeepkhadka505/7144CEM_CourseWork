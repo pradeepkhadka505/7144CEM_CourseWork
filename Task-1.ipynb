{
 "cells": [
  {
   "cell_type": "markdown",
   "id": "027f1468-8747-4baa-b54e-26e239127ecc",
   "metadata": {},
   "source": [
    "#### Numpy and Mathplotlib are useful Libraries provided by Python "
   ]
  },
  {
   "cell_type": "code",
   "execution_count": null,
   "id": "7685d009-e547-46df-abf8-02bce436694f",
   "metadata": {},
   "outputs": [],
   "source": [
    "import numpy as np\n",
    "import matplotlib.pyplot as plt  "
   ]
  }
 ],
 "metadata": {
  "kernelspec": {
   "display_name": "Python 3 (ipykernel)",
   "language": "python",
   "name": "python3"
  },
  "language_info": {
   "codemirror_mode": {
    "name": "ipython",
    "version": 3
   },
   "file_extension": ".py",
   "mimetype": "text/x-python",
   "name": "python",
   "nbconvert_exporter": "python",
   "pygments_lexer": "ipython3",
   "version": "3.12.7"
  }
 },
 "nbformat": 4,
 "nbformat_minor": 5
}
