{
 "cells": [
  {
   "cell_type": "code",
   "execution_count": null,
   "id": "04df0e5e-f030-444e-ab17-97b5f3ab8c0e",
   "metadata": {},
   "outputs": [],
   "source": []
  }
 ],
 "metadata": {
  "kernelspec": {
   "display_name": "",
   "name": ""
  },
  "language_info": {
   "name": ""
  }
 },
 "nbformat": 4,
 "nbformat_minor": 5
}
