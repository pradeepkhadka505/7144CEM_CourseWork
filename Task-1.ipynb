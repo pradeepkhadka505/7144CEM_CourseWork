{
 "cells": [
  {
   "cell_type": "markdown",
   "id": "027f1468-8747-4baa-b54e-26e239127ecc",
   "metadata": {},
   "source": [
    "#### Numpy and Mathplotlib are useful Libraries provided by Python "
   ]
  },
  {
   "cell_type": "code",
   "execution_count": 3,
   "id": "7685d009-e547-46df-abf8-02bce436694f",
   "metadata": {},
   "outputs": [],
   "source": [
    "import numpy as np\n",
    "import matplotlib.pyplot as plt  "
   ]
  },
  {
   "cell_type": "markdown",
   "id": "19c7f0e4-0b36-49e0-bafc-d4152a876ef8",
   "metadata": {},
   "source": [
    "#### Task-1-Part-1"
   ]
  },
  {
   "cell_type": "code",
   "execution_count": 4,
   "id": "7d6b0015-1c3d-42af-99cc-883ffdfab860",
   "metadata": {},
   "outputs": [
    {
     "name": "stdout",
     "output_type": "stream",
     "text": [
      "The transitions matrics A : \n",
      " [[0.05 0.1  0.   0.5 ]\n",
      " [0.93 0.86 0.   0.1 ]\n",
      " [0.02 0.04 0.8  0.  ]\n",
      " [0.   0.   0.2  0.4 ]]\n"
     ]
    }
   ],
   "source": [
    "## Explain Transitions Matrix\n",
    "#numpy array allows to create the \n",
    "#let's assume A variable to store the transitions Matrix \n",
    "A = np.array([[0.05, 0.1, 0.0, 0.5],  \n",
    "              [0.93, 0.86, 0.0, 0.1],\n",
    "              [0.02, 0.04, 0.8, 0.0],\n",
    "              [0.0, 0.0, 0.2, 0.4]])\n",
    "\n",
    "#This statement allows to print the above array \n",
    "print('The transitions matrics A : \\n',A)  "
   ]
  },
  {
   "cell_type": "code",
   "execution_count": 5,
   "id": "9ab902da-2a92-4634-9eaf-6b6d725e8fd3",
   "metadata": {},
   "outputs": [
    {
     "name": "stdout",
     "output_type": "stream",
     "text": [
      "The shape of transitions Matrix A :  (4, 4)\n"
     ]
    }
   ],
   "source": [
    "#numpy shape allows to check the shape of the array or martrix\n",
    "print('The shape of transitions Matrix A : ', A.shape)   "
   ]
  },
  {
   "cell_type": "code",
   "execution_count": 6,
   "id": "cbe467b9-2707-4050-9a97-4d5b0def678f",
   "metadata": {},
   "outputs": [
    {
     "name": "stdout",
     "output_type": "stream",
     "text": [
      "Number of dimentions of transitions Martix A :  2\n"
     ]
    }
   ],
   "source": [
    " #numpy ndim allows to check the dimentions of the above array \n",
    "print('Number of dimentions of transitions Martix A : ', A.ndim) "
   ]
  },
  {
   "cell_type": "markdown",
   "id": "4b94fd22-240e-4892-978a-79e7c3228339",
   "metadata": {},
   "source": [
    "#### Task-1-Part-2 "
   ]
  },
  {
   "cell_type": "code",
   "execution_count": 8,
   "id": "932bd80e-70d9-47c1-9c4a-0be5413e4820",
   "metadata": {},
   "outputs": [
    {
     "name": "stdout",
     "output_type": "stream",
     "text": [
      "[  0 200   0   0]\n",
      "(4,)\n",
      "1\n"
     ]
    }
   ],
   "source": [
    "#200 machine are initially working state rest of the other  machine are in zero state \n",
    "# let's create another metrix and denote v\n",
    "v= np.array([0, 200, 0, 0])\n",
    "print(v)\n",
    "print(v.shape)  #shape of and array or martrix\n",
    "print(v.ndim)  #number of dimentions"
   ]
  },
  {
   "cell_type": "code",
   "execution_count": 9,
   "id": "ec86b531-f48c-45da-881f-83bc72393380",
   "metadata": {},
   "outputs": [
    {
     "name": "stdout",
     "output_type": "stream",
     "text": [
      "<class 'list'>\n"
     ]
    }
   ],
   "source": [
    "# converting array into [] list for easy\n",
    "output = [v]    \n",
    "print(type(output))  #types allows to add the "
   ]
  },
  {
   "cell_type": "code",
   "execution_count": 10,
   "id": "db96e660-49a2-4bbc-a94b-7c12a072ec95",
   "metadata": {},
   "outputs": [
    {
     "name": "stdout",
     "output_type": "stream",
     "text": [
      "2\n",
      "(25, 4)\n"
     ]
    }
   ],
   "source": [
    "# calculating the sate of machine for 24 hours and (_) means unused variable \n",
    "for _ in range(24):  \n",
    "    v = A @ v                       # @ denote matrix multiplication\n",
    "    output.append(v)                #append() allows to add item at the end continuesly\n",
    "    \n",
    "# Converting list[] to a NumPy([]) for easy to diplay data in plt.plot()\n",
    "final_output = np.array(output) \n",
    "print(final_output.ndim)            # dimentions \n",
    "print(final_output.shape)           # in 24 hours our machine sate change shape into (25, 4)\n",
    "#numpy.aragnge() is builtin funtion provided by numpy \n",
    "hours = np.arange(25)  # 0 through 24 hours"
   ]
  },
  {
   "cell_type": "code",
   "execution_count": null,
   "id": "1bd97455-960e-4832-8659-c382c86a0db5",
   "metadata": {},
   "outputs": [],
   "source": []
  }
 ],
 "metadata": {
  "kernelspec": {
   "display_name": "Python 3 (ipykernel)",
   "language": "python",
   "name": "python3"
  },
  "language_info": {
   "codemirror_mode": {
    "name": "ipython",
    "version": 3
   },
   "file_extension": ".py",
   "mimetype": "text/x-python",
   "name": "python",
   "nbconvert_exporter": "python",
   "pygments_lexer": "ipython3",
   "version": "3.12.7"
  }
 },
 "nbformat": 4,
 "nbformat_minor": 5
}
