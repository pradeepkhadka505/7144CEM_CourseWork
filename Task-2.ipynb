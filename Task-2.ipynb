{
 "cells": [
  {
   "cell_type": "markdown",
   "id": "3d78f31d-4d83-4cd5-9f0e-53b9bda847af",
   "metadata": {},
   "source": [
    "#### Numpy and Mathplotlib are useful Libraries provided by Python "
   ]
  },
  {
   "cell_type": "code",
   "execution_count": null,
   "id": "b5bd1aa7-c255-4d39-8d21-52712e34f39b",
   "metadata": {},
   "outputs": [],
   "source": []
  }
 ],
 "metadata": {
  "kernelspec": {
   "display_name": "Python 3 (ipykernel)",
   "language": "python",
   "name": "python3"
  },
  "language_info": {
   "codemirror_mode": {
    "name": "ipython",
    "version": 3
   },
   "file_extension": ".py",
   "mimetype": "text/x-python",
   "name": "python",
   "nbconvert_exporter": "python",
   "pygments_lexer": "ipython3",
   "version": "3.12.7"
  }
 },
 "nbformat": 4,
 "nbformat_minor": 5
}
