{
 "cells": [
  {
   "cell_type": "markdown",
   "id": "027f1468-8747-4baa-b54e-26e239127ecc",
   "metadata": {},
   "source": [
    "#### Numpy and Mathplotlib are useful Libraries provided by Python "
   ]
  },
  {
   "cell_type": "code",
   "execution_count": 1,
   "id": "7685d009-e547-46df-abf8-02bce436694f",
   "metadata": {},
   "outputs": [],
   "source": [
    "import numpy as np\n",
    "import matplotlib.pyplot as plt  "
   ]
  },
  {
   "cell_type": "markdown",
   "id": "19c7f0e4-0b36-49e0-bafc-d4152a876ef8",
   "metadata": {},
   "source": [
    "#### Task-1-Part-1"
   ]
  },
  {
   "cell_type": "code",
   "execution_count": 2,
   "id": "7d6b0015-1c3d-42af-99cc-883ffdfab860",
   "metadata": {},
   "outputs": [
    {
     "name": "stdout",
     "output_type": "stream",
     "text": [
      "The transitions matrics A : \n",
      " [[0.05 0.1  0.   0.5 ]\n",
      " [0.93 0.86 0.   0.1 ]\n",
      " [0.02 0.04 0.8  0.  ]\n",
      " [0.   0.   0.2  0.4 ]]\n"
     ]
    }
   ],
   "source": [
    "## Explain Transitions Matrix\n",
    "#numpy array allows to create the \n",
    "#let's assume A variable to store the transitions Matrix \n",
    "A = np.array([[0.05, 0.1, 0.0, 0.5],  \n",
    "              [0.93, 0.86, 0.0, 0.1],\n",
    "              [0.02, 0.04, 0.8, 0.0],\n",
    "              [0.0, 0.0, 0.2, 0.4]])\n",
    "\n",
    "#This statement allows to print the above array \n",
    "print('The transitions matrics A : \\n',A)  "
   ]
  },
  {
   "cell_type": "code",
   "execution_count": null,
   "id": "9ab902da-2a92-4634-9eaf-6b6d725e8fd3",
   "metadata": {},
   "outputs": [],
   "source": []
  }
 ],
 "metadata": {
  "kernelspec": {
   "display_name": "Python 3 (ipykernel)",
   "language": "python",
   "name": "python3"
  },
  "language_info": {
   "codemirror_mode": {
    "name": "ipython",
    "version": 3
   },
   "file_extension": ".py",
   "mimetype": "text/x-python",
   "name": "python",
   "nbconvert_exporter": "python",
   "pygments_lexer": "ipython3",
   "version": "3.12.7"
  }
 },
 "nbformat": 4,
 "nbformat_minor": 5
}
